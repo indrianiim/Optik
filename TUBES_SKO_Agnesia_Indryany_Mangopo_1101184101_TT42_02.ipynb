{
  "nbformat": 4,
  "nbformat_minor": 0,
  "metadata": {
    "colab": {
      "name": "TUBES SKO_Agnesia Indryany Mangopo_1101184101_TT42-02.ipynb",
      "provenance": [],
      "collapsed_sections": [],
      "mount_file_id": "1jTxrFdgMGDvNfOKN-iHEaqkSFDA4e4p6",
      "authorship_tag": "ABX9TyPK58oic/Nq3MY6FvWJGDx+",
      "include_colab_link": true
    },
    "kernelspec": {
      "name": "python3",
      "display_name": "Python 3"
    }
  },
  "cells": [
    {
      "cell_type": "markdown",
      "metadata": {
        "id": "view-in-github",
        "colab_type": "text"
      },
      "source": [
        "<a href=\"https://colab.research.google.com/github/indrianiim/Optik/blob/main/TUBES_SKO_Agnesia_Indryany_Mangopo_1101184101_TT42_02.ipynb\" target=\"_parent\"><img src=\"https://colab.research.google.com/assets/colab-badge.svg\" alt=\"Open In Colab\"/></a>"
      ]
    },
    {
      "cell_type": "markdown",
      "metadata": {
        "id": "QlTxAkWcIhnD"
      },
      "source": [
        "Agnesia Indryany Mangopo\r\n",
        "\r\n",
        "1101184101\r\n",
        "\r\n",
        "TT-42-02"
      ]
    },
    {
      "cell_type": "code",
      "metadata": {
        "id": "i7L3CSy2th6s"
      },
      "source": [
        "import math as m\r\n",
        "import matplotlib.pyplot as plt\r\n",
        "import numpy as np"
      ],
      "execution_count": 10,
      "outputs": []
    },
    {
      "cell_type": "code",
      "metadata": {
        "id": "Ml6XK17WQdfo"
      },
      "source": [
        "#Converter\r\n",
        "NtL = lambda x : 10 * np.log10(x)\r\n",
        "LtN = lambda x : 10**(x/10)\r\n",
        "\r\n",
        "#Parameter SNR\r\n",
        "R = 0.8\r\n",
        "SM = 6  \r\n",
        "M = -0.23\r\n",
        "q = 1.6*10**-19\r\n",
        "id = 90*10**-9 \r\n",
        "B = 9*10**9 \r\n",
        "F = 1 \r\n",
        "K = 1.38*10**-23\r\n",
        "T = 290 \r\n",
        "RL = 50\r\n",
        "\r\n",
        "#Parameter Pr\r\n",
        "#Jarak Sentral ke ONU = 20 km\r\n",
        "#Jarak ONU ke Roset = <500 m --> 5*19 = 95 m \r\n",
        "#Jarak Total = 20000 + 95 = 20095 m\r\n",
        "\r\n",
        "d = np.arange(0.95,20.096,1) #Jarak (km)\r\n",
        "L_Fiber = 0.28 #Berdasarkan jenis G652D (dB)  \r\n",
        "N_Splicer = 4 #Jumlah Splicer\r\n",
        "L_Splicer = 0.2 #Loss dari splicer (db)\r\n",
        "N_Connector = 2 #Jumlah Konektor\r\n",
        "L_Connector = 0.3 #Loss dari konektor (dB)\r\n",
        "L_Splitter = 16 + 17.5 \r\n",
        "Pt = 2 #Daya tx (dBm)"
      ],
      "execution_count": 11,
      "outputs": []
    },
    {
      "cell_type": "code",
      "metadata": {
        "colab": {
          "base_uri": "https://localhost:8080/"
        },
        "id": "myuoHZqWQxuV",
        "outputId": "14390336-918c-47cf-b696-330f2ea2442a"
      },
      "source": [
        "#Rumus Pr\r\n",
        "def P_DayaTerima():\r\n",
        "  hambatan_fiber = d * L_Fiber\r\n",
        "  hambatan_splicer = N_Splicer * L_Splicer\r\n",
        "  hambatan_connector = N_Connector * L_Connector\r\n",
        "\r\n",
        "  alfa_total = hambatan_fiber + hambatan_splicer + hambatan_connector + L_Splitter + SM\r\n",
        "  Pr = Pt - alfa_total\r\n",
        "  return Pr\r\n",
        "\r\n",
        "Pr = P_DayaTerima()\r\n",
        "print('Daya Terima = ', Pr)"
      ],
      "execution_count": 12,
      "outputs": [
        {
          "output_type": "stream",
          "text": [
            "Daya Terima =  [-39.166 -39.446 -39.726 -40.006 -40.286 -40.566 -40.846 -41.126 -41.406\n",
            " -41.686 -41.966 -42.246 -42.526 -42.806 -43.086 -43.366 -43.646 -43.926\n",
            " -44.206 -44.486]\n"
          ],
          "name": "stdout"
        }
      ]
    },
    {
      "cell_type": "code",
      "metadata": {
        "colab": {
          "base_uri": "https://localhost:8080/"
        },
        "id": "I-e9AqTuWKZw",
        "outputId": "06afc7e5-8ea3-4934-f432-199846353754"
      },
      "source": [
        "#Arus Primer\r\n",
        "def Arus_Primer():\r\n",
        "  Pr_num = LtN(Pr)\r\n",
        "  ip = Pr_num * R\r\n",
        "  return ip\r\n",
        "ip = Arus_Primer()\r\n",
        "print(\"Arus Primer = \", ip)"
      ],
      "execution_count": 13,
      "outputs": [
        {
          "output_type": "stream",
          "text": [
            "Arus Primer =  [9.69370919e-05 9.08845345e-05 8.52098865e-05 7.98895522e-05\n",
            " 7.49014089e-05 7.02247153e-05 6.58400250e-05 6.17291060e-05\n",
            " 5.78748645e-05 5.42612741e-05 5.08733090e-05 4.76968817e-05\n",
            " 4.47187841e-05 4.19266330e-05 3.93088182e-05 3.68544545e-05\n",
            " 3.45533363e-05 3.23958953e-05 3.03731606e-05 2.84767214e-05]\n"
          ],
          "name": "stdout"
        }
      ]
    },
    {
      "cell_type": "code",
      "metadata": {
        "colab": {
          "base_uri": "https://localhost:8080/"
        },
        "id": "lvCupxy4WLWo",
        "outputId": "811df723-91f5-429a-ab53-eac03aa26de2"
      },
      "source": [
        "#Signal Power\r\n",
        "def Signal_Power():\r\n",
        "  Is_kuadrat = (ip*M)**2\r\n",
        "  return Is_kuadrat\r\n",
        "Is_kuadrat = Signal_Power()\r\n",
        "print('Signal Power = ', Is_kuadrat)"
      ],
      "execution_count": 14,
      "outputs": [
        {
          "output_type": "stream",
          "text": [
            "Signal Power =  [4.97090709e-10 4.36953926e-10 3.84092340e-10 3.37625815e-10\n",
            " 2.96780694e-10 2.60876913e-10 2.29316680e-10 2.01574525e-10\n",
            " 1.77188547e-10 1.55752722e-10 1.36910150e-10 1.20347105e-10\n",
            " 1.05787815e-10 9.29898712e-11 8.17401906e-11 7.18514681e-11\n",
            " 6.31590583e-11 5.55182344e-11 4.88017781e-11 4.28978618e-11]\n"
          ],
          "name": "stdout"
        }
      ]
    },
    {
      "cell_type": "code",
      "metadata": {
        "colab": {
          "base_uri": "https://localhost:8080/"
        },
        "id": "Tzlg6vhyWQWQ",
        "outputId": "95b9e17c-878b-405a-aa3b-381fa5cfd5c4"
      },
      "source": [
        "#Rumus SNR\r\n",
        "def SNR():\r\n",
        "  BDC = 2*q*id*B*(M**2)*F #Dark Current (Numerik)\r\n",
        "  SN = 2*q*ip*B*(M**2)*F #Shot Noise (Numerik)\r\n",
        "  NT = (4*K*T*B)/RL #Noise Thermal (Numerik)\r\n",
        "  Signal = Is_kuadrat # (Numerik)\r\n",
        "  Noise = BDC + SN + NT # (Numerik)\r\n",
        "\r\n",
        "  SNR = Signal / Noise\r\n",
        "  SNR_dBm = NtL(SNR)\r\n",
        "  return SNR_dBm\r\n",
        "\r\n",
        "SNR = SNR()\r\n",
        "print(SNR)"
      ],
      "execution_count": 15,
      "outputs": [
        {
          "output_type": "stream",
          "text": [
            "[22.34603757 21.78742053 21.22871754 20.66993391 20.11107465 19.55214444\n",
            " 18.99314767 18.43408847 17.87497071 17.31579803 16.75657384 16.19730134\n",
            " 15.63798352 15.0786232  14.51922303 13.95978548 13.40031289 12.84080741\n",
            " 12.28127112 11.72170591]\n"
          ],
          "name": "stdout"
        }
      ]
    },
    {
      "cell_type": "code",
      "metadata": {
        "colab": {
          "base_uri": "https://localhost:8080/"
        },
        "id": "M7CUwqCHWUD5",
        "outputId": "4f25d7b5-d8b6-4231-bff2-d3fffa06263b"
      },
      "source": [
        "#Rumus Q\r\n",
        "def Q_rumus():\r\n",
        "  Q_rumus = 0.5*(10**(SNR/20))\r\n",
        "  return Q_rumus\r\n",
        "Q = Q_rumus()\r\n",
        "print(Q)"
      ],
      "execution_count": 16,
      "outputs": [
        {
          "output_type": "stream",
          "text": [
            "[6.55046127 6.14244152 5.75977981 5.40090701 5.06435029 4.74872725\n",
            " 4.45274052 4.17517254 3.91488077 3.67079309 3.44190355 3.22726829\n",
            " 3.02600179 2.83727326 2.66030332 2.49436083 2.33875995 2.19285732\n",
            " 2.05604947 1.92777037]\n"
          ],
          "name": "stdout"
        }
      ]
    },
    {
      "cell_type": "code",
      "metadata": {
        "colab": {
          "base_uri": "https://localhost:8080/"
        },
        "id": "BGqOOkJ_WX03",
        "outputId": "26db87f8-cbe0-4b73-c4bd-5c305a630684"
      },
      "source": [
        "#Rumus BER\r\n",
        "pengkali_list = []\r\n",
        "def BER_rumus():\r\n",
        "  akar = 1/(Q * m.sqrt(2 * m.pi))\r\n",
        "  for i in range(len(Q)):\r\n",
        "    pengkali = m.exp(-(Q[i]**2)/2)\r\n",
        "    pengkali_list.append(pengkali)\r\n",
        "  BER = (1/akar)*(pengkali_list)\r\n",
        "  return BER\r\n",
        "BER = BER_rumus()\r\n",
        "print(BER)"
      ],
      "execution_count": 17,
      "outputs": [
        {
          "output_type": "stream",
          "text": [
            "[7.90478635e-09 9.87540813e-08 9.02863958e-07 6.27214074e-06\n",
            " 3.42214634e-05 1.50975937e-04 5.52536655e-04 1.71569221e-03\n",
            " 4.61048457e-03 1.09106632e-02 2.30892805e-02 4.42873705e-02\n",
            " 7.79129837e-02 1.27036890e-01 1.93741944e-01 2.78608716e-01\n",
            " 3.80473150e-01 4.96502046e-01 6.22541633e-01 7.53635330e-01]\n"
          ],
          "name": "stdout"
        }
      ]
    },
    {
      "cell_type": "code",
      "metadata": {
        "colab": {
          "base_uri": "https://localhost:8080/",
          "height": 1000
        },
        "id": "XPfg653gqXak",
        "outputId": "52243ec8-db6a-4f44-9c5d-40eec915608b"
      },
      "source": [
        "#GRAFIK\r\n",
        "def Grafik_SNR():\r\n",
        "  plt.figure()\r\n",
        "  plt.plot(d,SNR,'b')\r\n",
        "  plt.title('Perbandingan Jarak dengan SNR')\r\n",
        "  plt.xlabel('Jarak (Km)')\r\n",
        "  plt.ylabel('SNR (dB)')\r\n",
        "  plt.show()\r\n",
        "\r\n",
        "def Grafik_Q():\r\n",
        "  plt.figure()\r\n",
        "  plt.plot(d,Q,'r')\r\n",
        "  plt.title('Perbandingan Jarak dengan Q')\r\n",
        "  plt.xlabel('Jarak (Km)')\r\n",
        "  plt.ylabel('Q')\r\n",
        "  plt.show()\r\n",
        "\r\n",
        "def Grafik_BER():\r\n",
        "  plt.figure()\r\n",
        "  plt.plot(d,BER,'g')\r\n",
        "  plt.title('Perbandingan Jarak dengan BER')\r\n",
        "  plt.xlabel('Jarak (Km)')\r\n",
        "  plt.ylabel('BER')\r\n",
        "  plt.show()\r\n",
        "\r\n",
        "def Grafik_Perbandingan_BER_SNR():\r\n",
        "    plt.figure()\r\n",
        "    plt.plot(SNR,BER,'--')\r\n",
        "    plt.title('Perbandingan BER dan SNR')\r\n",
        "    plt.xlabel('BER')\r\n",
        "    plt.ylabel('SNR')\r\n",
        "    plt.show()\r\n",
        "\r\n",
        "Grafik_SNR()\r\n",
        "Grafik_Q()\r\n",
        "Grafik_BER()\r\n",
        "Grafik_Perbandingan_BER_SNR()"
      ],
      "execution_count": 18,
      "outputs": [
        {
          "output_type": "display_data",
          "data": {
            "image/png": "[encoded data removed]",
            "text/plain": [
              "<Figure size 432x288 with 1 Axes>"
            ]
          },
          "metadata": {
            "tags": [],
            "needs_background": "light"
          }
        },
        {
          "output_type": "display_data",
          "data": {
            "image/png": "[encoded data removed]",
            "text/plain": [
              "<Figure size 432x288 with 1 Axes>"
            ]
          },
          "metadata": {
            "tags": [],
            "needs_background": "light"
          }
        },
        {
          "output_type": "display_data",
          "data": {
            "image/png": "[encoded data removed]",
            "text/plain": [
              "<Figure size 432x288 with 1 Axes>"
            ]
          },
          "metadata": {
            "tags": [],
            "needs_background": "light"
          }
        },
        {
          "output_type": "display_data",
          "data": {
            "image/png": "[encoded data removed]",
            "text/plain": [
              "<Figure size 432x288 with 1 Axes>"
            ]
          },
          "metadata": {
            "tags": [],
            "needs_background": "light"
          }
        }
      ]
    }
  ]
}