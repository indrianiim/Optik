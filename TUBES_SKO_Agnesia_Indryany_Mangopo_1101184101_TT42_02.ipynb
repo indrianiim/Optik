{
  "nbformat": 4,
  "nbformat_minor": 0,
  "metadata": {
    "colab": {
      "name": "TUBES SKO_Agnesia Indryany Mangopo_1101184101_TT42-02.ipynb",
      "provenance": [],
      "mount_file_id": "1jTxrFdgMGDvNfOKN-iHEaqkSFDA4e4p6",
      "authorship_tag": "ABX9TyPmlz8eDTY2BVGP4hornYop",
      "include_colab_link": true
    },
    "kernelspec": {
      "name": "python3",
      "display_name": "Python 3"
    }
  },
  "cells": [
    {
      "cell_type": "markdown",
      "metadata": {
        "id": "view-in-github",
        "colab_type": "text"
      },
      "source": [
        "<a href=\"https://colab.research.google.com/github/indrianiim/Optik/blob/main/TUBES_SKO_Agnesia_Indryany_Mangopo_1101184101_TT42_02.ipynb\" target=\"_parent\"><img src=\"https://colab.research.google.com/assets/colab-badge.svg\" alt=\"Open In Colab\"/></a>"
      ]
    },
    {
      "cell_type": "markdown",
      "metadata": {
        "id": "KS0mGUVktym-"
      },
      "source": [
        "Tubes SKO"
      ]
    },
    {
      "cell_type": "code",
      "metadata": {
        "id": "i7L3CSy2th6s"
      },
      "source": [
        ""
      ],
      "execution_count": null,
      "outputs": []
    }
  ]
}