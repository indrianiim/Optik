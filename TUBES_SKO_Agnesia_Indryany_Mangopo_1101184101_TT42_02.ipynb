{
  "nbformat": 4,
  "nbformat_minor": 0,
  "metadata": {
    "colab": {
      "name": "TUBES SKO_Agnesia Indryany Mangopo_1101184101_TT42-02.ipynb",
      "provenance": [],
      "collapsed_sections": [],
      "authorship_tag": "ABX9TyPzh9kjbk6nDjB022QIBQYv",
      "include_colab_link": true
    },
    "kernelspec": {
      "name": "python3",
      "display_name": "Python 3"
    }
  },
  "cells": [
    {
      "cell_type": "markdown",
      "metadata": {
        "id": "view-in-github",
        "colab_type": "text"
      },
      "source": [
        "<a href=\"https://colab.research.google.com/github/indrianiim/Optik/blob/main/TUBES_SKO_Agnesia_Indryany_Mangopo_1101184101_TT42_02.ipynb\" target=\"_parent\"><img src=\"https://colab.research.google.com/assets/colab-badge.svg\" alt=\"Open In Colab\"/></a>"
      ]
    },
    {
      "cell_type": "markdown",
      "metadata": {
        "id": "QlTxAkWcIhnD"
      },
      "source": [
        "Agnesia Indryany Mangopo\r\n",
        "\r\n",
        "1101184101\r\n",
        "\r\n",
        "TT-42-02"
      ]
    },
    {
      "cell_type": "code",
      "metadata": {
        "id": "i7L3CSy2th6s"
      },
      "source": [
        "import math as m\r\n",
        "import matplotlib.pyplot as plt\r\n",
        "import numpy as np"
      ],
      "execution_count": 1,
      "outputs": []
    },
    {
      "cell_type": "code",
      "metadata": {
        "id": "Ml6XK17WQdfo"
      },
      "source": [
        "#Converter\r\n",
        "NtL = lambda x : 10 * np.log10(x)\r\n",
        "LtN = lambda x : 10**(x/10)\r\n",
        "\r\n",
        "#Parameter SNR\r\n",
        "R = 0.8\r\n",
        "SM = 6  \r\n",
        "M = -0.23\r\n",
        "q = 1.6*10**-19\r\n",
        "id = 90*10**-9 \r\n",
        "B = 9*10**9 \r\n",
        "F = 1 \r\n",
        "K = 1.38*10**-23\r\n",
        "T = 290 \r\n",
        "RL = 50\r\n",
        "\r\n",
        "#Parameter Pr\r\n",
        "#Jarak Sentral ke ONU = 20 km\r\n",
        "#Jarak ONU ke Roset = <500 m --> 5*19 = 95 m \r\n",
        "#Jarak Total = 20000 + 95 = 20095 m\r\n",
        "\r\n",
        "d = np.arange(0.95,20.096,1) #Jarak (km)\r\n",
        "L_Fiber = 0.28 #Berdasarkan jenis G652D (dB)  \r\n",
        "N_Splicer = 4 #Jumlah Splicer\r\n",
        "L_Splicer = 0.2 #Loss dari splicer (db)\r\n",
        "N_Connector = 2 #Jumlah Konektor\r\n",
        "L_Connector = 0.3 #Loss dari konektor (dB)\r\n",
        "L_Splitter = 16 + 17.5 \r\n",
        "Pt = 4 #Daya tx (dBm)"
      ],
      "execution_count": 2,
      "outputs": []
    },
    {
      "cell_type": "code",
      "metadata": {
        "colab": {
          "base_uri": "https://localhost:8080/"
        },
        "id": "myuoHZqWQxuV",
        "outputId": "805a76a3-eafa-4c84-cff3-ec5d872881d5"
      },
      "source": [
        "#Rumus Pr\r\n",
        "def P_DayaTerima():\r\n",
        "  hambatan_fiber = d * L_Fiber\r\n",
        "  hambatan_splicer = N_Splicer * L_Splicer\r\n",
        "  hambatan_connector = N_Connector * L_Connector\r\n",
        "\r\n",
        "  alfa_total = hambatan_fiber + hambatan_splicer + hambatan_connector + L_Splitter + SM\r\n",
        "  Pr = Pt - alfa_total\r\n",
        "  return Pr\r\n",
        "\r\n",
        "Pr = P_DayaTerima()\r\n",
        "print('Daya Terima = ', Pr)"
      ],
      "execution_count": 3,
      "outputs": [
        {
          "output_type": "stream",
          "text": [
            "Daya Terima =  [-37.166 -37.446 -37.726 -38.006 -38.286 -38.566 -38.846 -39.126 -39.406\n",
            " -39.686 -39.966 -40.246 -40.526 -40.806 -41.086 -41.366 -41.646 -41.926\n",
            " -42.206 -42.486]\n"
          ],
          "name": "stdout"
        }
      ]
    },
    {
      "cell_type": "code",
      "metadata": {
        "colab": {
          "base_uri": "https://localhost:8080/"
        },
        "id": "I-e9AqTuWKZw",
        "outputId": "fae2004f-7a94-48b7-cf55-c20a796c75e3"
      },
      "source": [
        "#Arus Primer\r\n",
        "def Arus_Primer():\r\n",
        "  Pr_num = LtN(Pr)\r\n",
        "  ip = Pr_num * R\r\n",
        "  return ip\r\n",
        "ip = Arus_Primer()\r\n",
        "print(\"Arus Primer = \", ip)"
      ],
      "execution_count": 4,
      "outputs": [
        {
          "output_type": "stream",
          "text": [
            "Arus Primer =  [1.53634937e-04 1.44042280e-04 1.35048569e-04 1.26616407e-04\n",
            " 1.18710733e-04 1.11298673e-04 1.04349407e-04 9.78340398e-05\n",
            " 9.17254787e-05 8.59983239e-05 8.06287612e-05 7.55944631e-05\n",
            " 7.08744966e-05 6.64492352e-05 6.23002783e-05 5.84103740e-05\n",
            " 5.47633475e-05 5.13440340e-05 4.81382155e-05 4.51325620e-05]\n"
          ],
          "name": "stdout"
        }
      ]
    },
    {
      "cell_type": "code",
      "metadata": {
        "colab": {
          "base_uri": "https://localhost:8080/"
        },
        "id": "lvCupxy4WLWo",
        "outputId": "0ba18ba4-ebec-4f1e-87f9-ad0977c98bca"
      },
      "source": [
        "#Signal Power\r\n",
        "def Signal_Power():\r\n",
        "  Is_kuadrat = (ip*M)**2\r\n",
        "  return Is_kuadrat\r\n",
        "Is_kuadrat = Signal_Power()\r\n",
        "print('Signal Power = ', Is_kuadrat)"
      ],
      "execution_count": 5,
      "outputs": [
        {
          "output_type": "stream",
          "text": [
            "Signal Power =  [1.24863541e-09 1.09757864e-09 9.64796337e-10 8.48077705e-10\n",
            " 7.45479398e-10 6.55293177e-10 5.76017458e-10 5.06332315e-10\n",
            " 4.45077506e-10 3.91233150e-10 3.43902748e-10 3.02298259e-10\n",
            " 2.65726976e-10 2.33579996e-10 2.05322076e-10 1.80482728e-10\n",
            " 1.58648382e-10 1.39455500e-10 1.22584524e-10 1.07754557e-10]\n"
          ],
          "name": "stdout"
        }
      ]
    },
    {
      "cell_type": "code",
      "metadata": {
        "colab": {
          "base_uri": "https://localhost:8080/"
        },
        "id": "Tzlg6vhyWQWQ",
        "outputId": "57d9e8c1-0a69-4dd1-835a-7984b6bd0a7e"
      },
      "source": [
        "#Rumus SNR\r\n",
        "def SNR():\r\n",
        "  BDC = 2*q*id*B*(M**2)*F #Dark Current (Numerik)\r\n",
        "  SN = 2*q*ip*B*(M**2)*F #Shot Noise (Numerik)\r\n",
        "  NT = (4*K*T*B)/RL #Noise Thermal (Numerik)\r\n",
        "  Signal = Is_kuadrat # (Numerik)\r\n",
        "  Noise = BDC + SN + NT # (Numerik)\r\n",
        "\r\n",
        "  SNR = Signal / Noise\r\n",
        "  SNR_dBm = NtL(SNR)\r\n",
        "  return SNR_dBm\r\n",
        "\r\n",
        "SNR = SNR()\r\n",
        "print(SNR)"
      ],
      "execution_count": 6,
      "outputs": [
        {
          "output_type": "stream",
          "text": [
            "[26.33310395 25.77528947 25.21733953 24.65926247 24.10106612 23.54275784\n",
            " 22.98434452 22.42583266 21.86722835 21.30853731 20.74976489 20.19091614\n",
            " 19.63199579 19.07300826 18.51395774 17.95484812 17.39568308 16.83646604\n",
            " 16.27720025 15.71788873]\n"
          ],
          "name": "stdout"
        }
      ]
    },
    {
      "cell_type": "code",
      "metadata": {
        "colab": {
          "base_uri": "https://localhost:8080/"
        },
        "id": "M7CUwqCHWUD5",
        "outputId": "abc5b4c2-4c08-4f53-cbdb-1e5484d7a521"
      },
      "source": [
        "#Rumus Q\r\n",
        "def Q_rumus():\r\n",
        "  Q_rumus = 0.5*(10**(SNR/20))\r\n",
        "  return Q_rumus\r\n",
        "Q = Q_rumus()\r\n",
        "print(Q)"
      ],
      "execution_count": 7,
      "outputs": [
        {
          "output_type": "stream",
          "text": [
            "[10.3663341   9.7215268   9.11668566  8.54935061  8.01721094  7.5180965\n",
            "  7.04996937  6.61091598  6.19913968  5.81295378  5.45077492  5.11111687\n",
            "  4.79258466  4.4938691   4.21374152  3.95104895  3.70470949  3.47370798\n",
            "  3.25709193  3.05396771]\n"
          ],
          "name": "stdout"
        }
      ]
    },
    {
      "cell_type": "code",
      "metadata": {
        "colab": {
          "base_uri": "https://localhost:8080/"
        },
        "id": "BGqOOkJ_WX03",
        "outputId": "ce8b104e-d179-4871-fa9b-e466fd1daf9b"
      },
      "source": [
        "#Rumus BER\r\n",
        "pengkali_list = []\r\n",
        "def BER_rumus():\r\n",
        "  akar = 1/(Q * m.sqrt(2 * m.pi))\r\n",
        "  for i in range(len(Q)):\r\n",
        "    pengkali = m.exp(-(Q[i]**2)/2)\r\n",
        "    pengkali_list.append(pengkali)\r\n",
        "  BER = (1/akar)*(pengkali_list)\r\n",
        "  return BER\r\n",
        "BER = BER_rumus()\r\n",
        "print(BER)"
      ],
      "execution_count": 8,
      "outputs": [
        {
          "output_type": "stream",
          "text": [
            "[1.20193496e-22 7.32242394e-20 2.04625786e-17 2.88023626e-15\n",
            " 2.21732100e-13 1.00380724e-11 2.84846042e-10 5.35923666e-09\n",
            " 7.02421465e-08 6.69865800e-07 4.82945331e-06 2.72242800e-05\n",
            " 1.23604268e-04 4.63929874e-04 1.47290405e-03 4.03610857e-03\n",
            " 9.71685928e-03 2.08758471e-02 4.05771312e-02 7.22242644e-02]\n"
          ],
          "name": "stdout"
        }
      ]
    },
    {
      "cell_type": "code",
      "metadata": {
        "colab": {
          "base_uri": "https://localhost:8080/",
          "height": 1000
        },
        "id": "XPfg653gqXak",
        "outputId": "4e39be64-e19b-4e76-bc04-b61b35765335"
      },
      "source": [
        "#GRAFIK\r\n",
        "def Grafik_SNR():\r\n",
        "  plt.figure()\r\n",
        "  plt.plot(d,SNR,'b')\r\n",
        "  plt.title('Perbandingan Jarak dengan SNR')\r\n",
        "  plt.xlabel('Jarak (Km)')\r\n",
        "  plt.ylabel('SNR (dB)')\r\n",
        "  plt.show()\r\n",
        "\r\n",
        "def Grafik_Q():\r\n",
        "  plt.figure()\r\n",
        "  plt.plot(d,Q,'r')\r\n",
        "  plt.title('Perbandingan Jarak dengan Q')\r\n",
        "  plt.xlabel('Jarak (Km)')\r\n",
        "  plt.ylabel('Q')\r\n",
        "  plt.show()\r\n",
        "\r\n",
        "def Grafik_BER():\r\n",
        "  plt.figure()\r\n",
        "  plt.plot(d,BER,'g')\r\n",
        "  plt.title('Perbandingan Jarak dengan BER')\r\n",
        "  plt.xlabel('Jarak (Km)')\r\n",
        "  plt.ylabel('BER')\r\n",
        "  plt.show()\r\n",
        "\r\n",
        "def Grafik_Perbandingan_BER_SNR():\r\n",
        "    plt.figure()\r\n",
        "    plt.plot(SNR,BER,'--')\r\n",
        "    plt.title('Perbandingan BER dan SNR')\r\n",
        "    plt.xlabel('BER')\r\n",
        "    plt.ylabel('SNR')\r\n",
        "    plt.show()\r\n",
        "\r\n",
        "Grafik_SNR()\r\n",
        "Grafik_Q()\r\n",
        "Grafik_BER()\r\n",
        "Grafik_Perbandingan_BER_SNR()"
      ],
      "execution_count": 9,
      "outputs": [
        {
          "output_type": "display_data",
          "data": {
            "image/png": "[encoded data removed]",
            "text/plain": [
              "<Figure size 432x288 with 1 Axes>"
            ]
          },
          "metadata": {
            "tags": [],
            "needs_background": "light"
          }
        },
        {
          "output_type": "display_data",
          "data": {
            "image/png": "[encoded data removed]",
            "text/plain": [
              "<Figure size 432x288 with 1 Axes>"
            ]
          },
          "metadata": {
            "tags": [],
            "needs_background": "light"
          }
        },
        {
          "output_type": "display_data",
          "data": {
            "image/png": "[encoded data removed]",
            "text/plain": [
              "<Figure size 432x288 with 1 Axes>"
            ]
          },
          "metadata": {
            "tags": [],
            "needs_background": "light"
          }
        },
        {
          "output_type": "display_data",
          "data": {
            "image/png": "[encoded data removed]",
            "text/plain": [
              "<Figure size 432x288 with 1 Axes>"
            ]
          },
          "metadata": {
            "tags": [],
            "needs_background": "light"
          }
        }
      ]
    },
    {
      "cell_type": "code",
      "metadata": {
        "id": "OTOY-UCEisC_"
      },
      "source": [
        ""
      ],
      "execution_count": null,
      "outputs": []
    }
  ]
}